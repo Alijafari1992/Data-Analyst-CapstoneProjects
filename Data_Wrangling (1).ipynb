{
  "nbformat": 4,
  "nbformat_minor": 0,
  "metadata": {
    "colab": {
      "provenance": []
    },
    "kernelspec": {
      "name": "python3",
      "display_name": "Python 3"
    },
    "language_info": {
      "name": "python"
    }
  },
  "cells": [
    {
      "cell_type": "code",
      "execution_count": 16,
      "metadata": {
        "id": "SF4-loYZkcIQ"
      },
      "outputs": [],
      "source": [
        "import pandas as pd\n",
        "import numpy as np"
      ]
    },
    {
      "cell_type": "code",
      "source": [
        "path=\"https://cf-courses-data.s3.us.cloud-object-storage.appdomain.cloud/IBM-DA0321EN-SkillsNetwork/LargeData/m1_survey_data.csv\""
      ],
      "metadata": {
        "id": "dwPD7M-Slk8-"
      },
      "execution_count": 17,
      "outputs": []
    },
    {
      "cell_type": "code",
      "source": [
        "df=pd.read_csv(path)"
      ],
      "metadata": {
        "id": "YJrOziC6ldG-"
      },
      "execution_count": 45,
      "outputs": []
    },
    {
      "cell_type": "code",
      "source": [
        "df.head()"
      ],
      "metadata": {
        "colab": {
          "base_uri": "https://localhost:8080/",
          "height": 602
        },
        "id": "cqUc4ilHlvTK",
        "outputId": "4923d43c-4b62-440f-e39c-9e723876d462"
      },
      "execution_count": 46,
      "outputs": [
        {
          "output_type": "execute_result",
          "data": {
            "text/plain": [
              "   Respondent                      MainBranch Hobbyist  \\\n",
              "0           4  I am a developer by profession       No   \n",
              "1           9  I am a developer by profession      Yes   \n",
              "2          13  I am a developer by profession      Yes   \n",
              "3          16  I am a developer by profession      Yes   \n",
              "4          17  I am a developer by profession      Yes   \n",
              "\n",
              "                                         OpenSourcer  \\\n",
              "0                                              Never   \n",
              "1                         Once a month or more often   \n",
              "2  Less than once a month but more than once per ...   \n",
              "3                                              Never   \n",
              "4  Less than once a month but more than once per ...   \n",
              "\n",
              "                                          OpenSource          Employment  \\\n",
              "0  The quality of OSS and closed source software ...  Employed full-time   \n",
              "1  The quality of OSS and closed source software ...  Employed full-time   \n",
              "2  OSS is, on average, of HIGHER quality than pro...  Employed full-time   \n",
              "3  The quality of OSS and closed source software ...  Employed full-time   \n",
              "4  The quality of OSS and closed source software ...  Employed full-time   \n",
              "\n",
              "          Country Student                                            EdLevel  \\\n",
              "0   United States      No           Bachelor’s degree (BA, BS, B.Eng., etc.)   \n",
              "1     New Zealand      No  Some college/university study without earning ...   \n",
              "2   United States      No        Master’s degree (MA, MS, M.Eng., MBA, etc.)   \n",
              "3  United Kingdom      No        Master’s degree (MA, MS, M.Eng., MBA, etc.)   \n",
              "4       Australia      No           Bachelor’s degree (BA, BS, B.Eng., etc.)   \n",
              "\n",
              "                                      UndergradMajor  ...  \\\n",
              "0  Computer science, computer engineering, or sof...  ...   \n",
              "1  Computer science, computer engineering, or sof...  ...   \n",
              "2  Computer science, computer engineering, or sof...  ...   \n",
              "3                                                NaN  ...   \n",
              "4  Computer science, computer engineering, or sof...  ...   \n",
              "\n",
              "                              WelcomeChange  \\\n",
              "0   Just as welcome now as I felt last year   \n",
              "1   Just as welcome now as I felt last year   \n",
              "2  Somewhat more welcome now than last year   \n",
              "3   Just as welcome now as I felt last year   \n",
              "4   Just as welcome now as I felt last year   \n",
              "\n",
              "                                        SONewContent   Age Gender Trans  \\\n",
              "0  Tech articles written by other developers;Indu...  22.0    Man    No   \n",
              "1                                                NaN  23.0    Man    No   \n",
              "2  Tech articles written by other developers;Cour...  28.0    Man    No   \n",
              "3  Tech articles written by other developers;Indu...  26.0    Man    No   \n",
              "4  Tech articles written by other developers;Indu...  29.0    Man    No   \n",
              "\n",
              "                 Sexuality                              Ethnicity Dependents  \\\n",
              "0  Straight / Heterosexual           White or of European descent         No   \n",
              "1                 Bisexual           White or of European descent         No   \n",
              "2  Straight / Heterosexual           White or of European descent        Yes   \n",
              "3  Straight / Heterosexual           White or of European descent         No   \n",
              "4  Straight / Heterosexual  Hispanic or Latino/Latina;Multiracial         No   \n",
              "\n",
              "            SurveyLength                  SurveyEase  \n",
              "0  Appropriate in length                        Easy  \n",
              "1  Appropriate in length  Neither easy nor difficult  \n",
              "2  Appropriate in length                        Easy  \n",
              "3  Appropriate in length  Neither easy nor difficult  \n",
              "4  Appropriate in length                        Easy  \n",
              "\n",
              "[5 rows x 85 columns]"
            ],
            "text/html": [
              "\n",
              "  <div id=\"df-f405254e-acbd-4c74-8ebb-264e15794405\" class=\"colab-df-container\">\n",
              "    <div>\n",
              "<style scoped>\n",
              "    .dataframe tbody tr th:only-of-type {\n",
              "        vertical-align: middle;\n",
              "    }\n",
              "\n",
              "    .dataframe tbody tr th {\n",
              "        vertical-align: top;\n",
              "    }\n",
              "\n",
              "    .dataframe thead th {\n",
              "        text-align: right;\n",
              "    }\n",
              "</style>\n",
              "<table border=\"1\" class=\"dataframe\">\n",
              "  <thead>\n",
              "    <tr style=\"text-align: right;\">\n",
              "      <th></th>\n",
              "      <th>Respondent</th>\n",
              "      <th>MainBranch</th>\n",
              "      <th>Hobbyist</th>\n",
              "      <th>OpenSourcer</th>\n",
              "      <th>OpenSource</th>\n",
              "      <th>Employment</th>\n",
              "      <th>Country</th>\n",
              "      <th>Student</th>\n",
              "      <th>EdLevel</th>\n",
              "      <th>UndergradMajor</th>\n",
              "      <th>...</th>\n",
              "      <th>WelcomeChange</th>\n",
              "      <th>SONewContent</th>\n",
              "      <th>Age</th>\n",
              "      <th>Gender</th>\n",
              "      <th>Trans</th>\n",
              "      <th>Sexuality</th>\n",
              "      <th>Ethnicity</th>\n",
              "      <th>Dependents</th>\n",
              "      <th>SurveyLength</th>\n",
              "      <th>SurveyEase</th>\n",
              "    </tr>\n",
              "  </thead>\n",
              "  <tbody>\n",
              "    <tr>\n",
              "      <th>0</th>\n",
              "      <td>4</td>\n",
              "      <td>I am a developer by profession</td>\n",
              "      <td>No</td>\n",
              "      <td>Never</td>\n",
              "      <td>The quality of OSS and closed source software ...</td>\n",
              "      <td>Employed full-time</td>\n",
              "      <td>United States</td>\n",
              "      <td>No</td>\n",
              "      <td>Bachelor’s degree (BA, BS, B.Eng., etc.)</td>\n",
              "      <td>Computer science, computer engineering, or sof...</td>\n",
              "      <td>...</td>\n",
              "      <td>Just as welcome now as I felt last year</td>\n",
              "      <td>Tech articles written by other developers;Indu...</td>\n",
              "      <td>22.0</td>\n",
              "      <td>Man</td>\n",
              "      <td>No</td>\n",
              "      <td>Straight / Heterosexual</td>\n",
              "      <td>White or of European descent</td>\n",
              "      <td>No</td>\n",
              "      <td>Appropriate in length</td>\n",
              "      <td>Easy</td>\n",
              "    </tr>\n",
              "    <tr>\n",
              "      <th>1</th>\n",
              "      <td>9</td>\n",
              "      <td>I am a developer by profession</td>\n",
              "      <td>Yes</td>\n",
              "      <td>Once a month or more often</td>\n",
              "      <td>The quality of OSS and closed source software ...</td>\n",
              "      <td>Employed full-time</td>\n",
              "      <td>New Zealand</td>\n",
              "      <td>No</td>\n",
              "      <td>Some college/university study without earning ...</td>\n",
              "      <td>Computer science, computer engineering, or sof...</td>\n",
              "      <td>...</td>\n",
              "      <td>Just as welcome now as I felt last year</td>\n",
              "      <td>NaN</td>\n",
              "      <td>23.0</td>\n",
              "      <td>Man</td>\n",
              "      <td>No</td>\n",
              "      <td>Bisexual</td>\n",
              "      <td>White or of European descent</td>\n",
              "      <td>No</td>\n",
              "      <td>Appropriate in length</td>\n",
              "      <td>Neither easy nor difficult</td>\n",
              "    </tr>\n",
              "    <tr>\n",
              "      <th>2</th>\n",
              "      <td>13</td>\n",
              "      <td>I am a developer by profession</td>\n",
              "      <td>Yes</td>\n",
              "      <td>Less than once a month but more than once per ...</td>\n",
              "      <td>OSS is, on average, of HIGHER quality than pro...</td>\n",
              "      <td>Employed full-time</td>\n",
              "      <td>United States</td>\n",
              "      <td>No</td>\n",
              "      <td>Master’s degree (MA, MS, M.Eng., MBA, etc.)</td>\n",
              "      <td>Computer science, computer engineering, or sof...</td>\n",
              "      <td>...</td>\n",
              "      <td>Somewhat more welcome now than last year</td>\n",
              "      <td>Tech articles written by other developers;Cour...</td>\n",
              "      <td>28.0</td>\n",
              "      <td>Man</td>\n",
              "      <td>No</td>\n",
              "      <td>Straight / Heterosexual</td>\n",
              "      <td>White or of European descent</td>\n",
              "      <td>Yes</td>\n",
              "      <td>Appropriate in length</td>\n",
              "      <td>Easy</td>\n",
              "    </tr>\n",
              "    <tr>\n",
              "      <th>3</th>\n",
              "      <td>16</td>\n",
              "      <td>I am a developer by profession</td>\n",
              "      <td>Yes</td>\n",
              "      <td>Never</td>\n",
              "      <td>The quality of OSS and closed source software ...</td>\n",
              "      <td>Employed full-time</td>\n",
              "      <td>United Kingdom</td>\n",
              "      <td>No</td>\n",
              "      <td>Master’s degree (MA, MS, M.Eng., MBA, etc.)</td>\n",
              "      <td>NaN</td>\n",
              "      <td>...</td>\n",
              "      <td>Just as welcome now as I felt last year</td>\n",
              "      <td>Tech articles written by other developers;Indu...</td>\n",
              "      <td>26.0</td>\n",
              "      <td>Man</td>\n",
              "      <td>No</td>\n",
              "      <td>Straight / Heterosexual</td>\n",
              "      <td>White or of European descent</td>\n",
              "      <td>No</td>\n",
              "      <td>Appropriate in length</td>\n",
              "      <td>Neither easy nor difficult</td>\n",
              "    </tr>\n",
              "    <tr>\n",
              "      <th>4</th>\n",
              "      <td>17</td>\n",
              "      <td>I am a developer by profession</td>\n",
              "      <td>Yes</td>\n",
              "      <td>Less than once a month but more than once per ...</td>\n",
              "      <td>The quality of OSS and closed source software ...</td>\n",
              "      <td>Employed full-time</td>\n",
              "      <td>Australia</td>\n",
              "      <td>No</td>\n",
              "      <td>Bachelor’s degree (BA, BS, B.Eng., etc.)</td>\n",
              "      <td>Computer science, computer engineering, or sof...</td>\n",
              "      <td>...</td>\n",
              "      <td>Just as welcome now as I felt last year</td>\n",
              "      <td>Tech articles written by other developers;Indu...</td>\n",
              "      <td>29.0</td>\n",
              "      <td>Man</td>\n",
              "      <td>No</td>\n",
              "      <td>Straight / Heterosexual</td>\n",
              "      <td>Hispanic or Latino/Latina;Multiracial</td>\n",
              "      <td>No</td>\n",
              "      <td>Appropriate in length</td>\n",
              "      <td>Easy</td>\n",
              "    </tr>\n",
              "  </tbody>\n",
              "</table>\n",
              "<p>5 rows × 85 columns</p>\n",
              "</div>\n",
              "    <div class=\"colab-df-buttons\">\n",
              "\n",
              "  <div class=\"colab-df-container\">\n",
              "    <button class=\"colab-df-convert\" onclick=\"convertToInteractive('df-f405254e-acbd-4c74-8ebb-264e15794405')\"\n",
              "            title=\"Convert this dataframe to an interactive table.\"\n",
              "            style=\"display:none;\">\n",
              "\n",
              "  <svg xmlns=\"http://www.w3.org/2000/svg\" height=\"24px\" viewBox=\"0 -960 960 960\">\n",
              "    <path d=\"M120-120v-720h720v720H120Zm60-500h600v-160H180v160Zm220 220h160v-160H400v160Zm0 220h160v-160H400v160ZM180-400h160v-160H180v160Zm440 0h160v-160H620v160ZM180-180h160v-160H180v160Zm440 0h160v-160H620v160Z\"/>\n",
              "  </svg>\n",
              "    </button>\n",
              "\n",
              "  <style>\n",
              "    .colab-df-container {\n",
              "      display:flex;\n",
              "      gap: 12px;\n",
              "    }\n",
              "\n",
              "    .colab-df-convert {\n",
              "      background-color: #E8F0FE;\n",
              "      border: none;\n",
              "      border-radius: 50%;\n",
              "      cursor: pointer;\n",
              "      display: none;\n",
              "      fill: #1967D2;\n",
              "      height: 32px;\n",
              "      padding: 0 0 0 0;\n",
              "      width: 32px;\n",
              "    }\n",
              "\n",
              "    .colab-df-convert:hover {\n",
              "      background-color: #E2EBFA;\n",
              "      box-shadow: 0px 1px 2px rgba(60, 64, 67, 0.3), 0px 1px 3px 1px rgba(60, 64, 67, 0.15);\n",
              "      fill: #174EA6;\n",
              "    }\n",
              "\n",
              "    .colab-df-buttons div {\n",
              "      margin-bottom: 4px;\n",
              "    }\n",
              "\n",
              "    [theme=dark] .colab-df-convert {\n",
              "      background-color: #3B4455;\n",
              "      fill: #D2E3FC;\n",
              "    }\n",
              "\n",
              "    [theme=dark] .colab-df-convert:hover {\n",
              "      background-color: #434B5C;\n",
              "      box-shadow: 0px 1px 3px 1px rgba(0, 0, 0, 0.15);\n",
              "      filter: drop-shadow(0px 1px 2px rgba(0, 0, 0, 0.3));\n",
              "      fill: #FFFFFF;\n",
              "    }\n",
              "  </style>\n",
              "\n",
              "    <script>\n",
              "      const buttonEl =\n",
              "        document.querySelector('#df-f405254e-acbd-4c74-8ebb-264e15794405 button.colab-df-convert');\n",
              "      buttonEl.style.display =\n",
              "        google.colab.kernel.accessAllowed ? 'block' : 'none';\n",
              "\n",
              "      async function convertToInteractive(key) {\n",
              "        const element = document.querySelector('#df-f405254e-acbd-4c74-8ebb-264e15794405');\n",
              "        const dataTable =\n",
              "          await google.colab.kernel.invokeFunction('convertToInteractive',\n",
              "                                                    [key], {});\n",
              "        if (!dataTable) return;\n",
              "\n",
              "        const docLinkHtml = 'Like what you see? Visit the ' +\n",
              "          '<a target=\"_blank\" href=https://colab.research.google.com/notebooks/data_table.ipynb>data table notebook</a>'\n",
              "          + ' to learn more about interactive tables.';\n",
              "        element.innerHTML = '';\n",
              "        dataTable['output_type'] = 'display_data';\n",
              "        await google.colab.output.renderOutput(dataTable, element);\n",
              "        const docLink = document.createElement('div');\n",
              "        docLink.innerHTML = docLinkHtml;\n",
              "        element.appendChild(docLink);\n",
              "      }\n",
              "    </script>\n",
              "  </div>\n",
              "\n",
              "\n",
              "<div id=\"df-34ec595a-c5f6-41e0-8ae4-2c370bf9ad1f\">\n",
              "  <button class=\"colab-df-quickchart\" onclick=\"quickchart('df-34ec595a-c5f6-41e0-8ae4-2c370bf9ad1f')\"\n",
              "            title=\"Suggest charts\"\n",
              "            style=\"display:none;\">\n",
              "\n",
              "<svg xmlns=\"http://www.w3.org/2000/svg\" height=\"24px\"viewBox=\"0 0 24 24\"\n",
              "     width=\"24px\">\n",
              "    <g>\n",
              "        <path d=\"M19 3H5c-1.1 0-2 .9-2 2v14c0 1.1.9 2 2 2h14c1.1 0 2-.9 2-2V5c0-1.1-.9-2-2-2zM9 17H7v-7h2v7zm4 0h-2V7h2v10zm4 0h-2v-4h2v4z\"/>\n",
              "    </g>\n",
              "</svg>\n",
              "  </button>\n",
              "\n",
              "<style>\n",
              "  .colab-df-quickchart {\n",
              "      --bg-color: #E8F0FE;\n",
              "      --fill-color: #1967D2;\n",
              "      --hover-bg-color: #E2EBFA;\n",
              "      --hover-fill-color: #174EA6;\n",
              "      --disabled-fill-color: #AAA;\n",
              "      --disabled-bg-color: #DDD;\n",
              "  }\n",
              "\n",
              "  [theme=dark] .colab-df-quickchart {\n",
              "      --bg-color: #3B4455;\n",
              "      --fill-color: #D2E3FC;\n",
              "      --hover-bg-color: #434B5C;\n",
              "      --hover-fill-color: #FFFFFF;\n",
              "      --disabled-bg-color: #3B4455;\n",
              "      --disabled-fill-color: #666;\n",
              "  }\n",
              "\n",
              "  .colab-df-quickchart {\n",
              "    background-color: var(--bg-color);\n",
              "    border: none;\n",
              "    border-radius: 50%;\n",
              "    cursor: pointer;\n",
              "    display: none;\n",
              "    fill: var(--fill-color);\n",
              "    height: 32px;\n",
              "    padding: 0;\n",
              "    width: 32px;\n",
              "  }\n",
              "\n",
              "  .colab-df-quickchart:hover {\n",
              "    background-color: var(--hover-bg-color);\n",
              "    box-shadow: 0 1px 2px rgba(60, 64, 67, 0.3), 0 1px 3px 1px rgba(60, 64, 67, 0.15);\n",
              "    fill: var(--button-hover-fill-color);\n",
              "  }\n",
              "\n",
              "  .colab-df-quickchart-complete:disabled,\n",
              "  .colab-df-quickchart-complete:disabled:hover {\n",
              "    background-color: var(--disabled-bg-color);\n",
              "    fill: var(--disabled-fill-color);\n",
              "    box-shadow: none;\n",
              "  }\n",
              "\n",
              "  .colab-df-spinner {\n",
              "    border: 2px solid var(--fill-color);\n",
              "    border-color: transparent;\n",
              "    border-bottom-color: var(--fill-color);\n",
              "    animation:\n",
              "      spin 1s steps(1) infinite;\n",
              "  }\n",
              "\n",
              "  @keyframes spin {\n",
              "    0% {\n",
              "      border-color: transparent;\n",
              "      border-bottom-color: var(--fill-color);\n",
              "      border-left-color: var(--fill-color);\n",
              "    }\n",
              "    20% {\n",
              "      border-color: transparent;\n",
              "      border-left-color: var(--fill-color);\n",
              "      border-top-color: var(--fill-color);\n",
              "    }\n",
              "    30% {\n",
              "      border-color: transparent;\n",
              "      border-left-color: var(--fill-color);\n",
              "      border-top-color: var(--fill-color);\n",
              "      border-right-color: var(--fill-color);\n",
              "    }\n",
              "    40% {\n",
              "      border-color: transparent;\n",
              "      border-right-color: var(--fill-color);\n",
              "      border-top-color: var(--fill-color);\n",
              "    }\n",
              "    60% {\n",
              "      border-color: transparent;\n",
              "      border-right-color: var(--fill-color);\n",
              "    }\n",
              "    80% {\n",
              "      border-color: transparent;\n",
              "      border-right-color: var(--fill-color);\n",
              "      border-bottom-color: var(--fill-color);\n",
              "    }\n",
              "    90% {\n",
              "      border-color: transparent;\n",
              "      border-bottom-color: var(--fill-color);\n",
              "    }\n",
              "  }\n",
              "</style>\n",
              "\n",
              "  <script>\n",
              "    async function quickchart(key) {\n",
              "      const quickchartButtonEl =\n",
              "        document.querySelector('#' + key + ' button');\n",
              "      quickchartButtonEl.disabled = true;  // To prevent multiple clicks.\n",
              "      quickchartButtonEl.classList.add('colab-df-spinner');\n",
              "      try {\n",
              "        const charts = await google.colab.kernel.invokeFunction(\n",
              "            'suggestCharts', [key], {});\n",
              "      } catch (error) {\n",
              "        console.error('Error during call to suggestCharts:', error);\n",
              "      }\n",
              "      quickchartButtonEl.classList.remove('colab-df-spinner');\n",
              "      quickchartButtonEl.classList.add('colab-df-quickchart-complete');\n",
              "    }\n",
              "    (() => {\n",
              "      let quickchartButtonEl =\n",
              "        document.querySelector('#df-34ec595a-c5f6-41e0-8ae4-2c370bf9ad1f button');\n",
              "      quickchartButtonEl.style.display =\n",
              "        google.colab.kernel.accessAllowed ? 'block' : 'none';\n",
              "    })();\n",
              "  </script>\n",
              "</div>\n",
              "\n",
              "    </div>\n",
              "  </div>\n"
            ],
            "application/vnd.google.colaboratory.intrinsic+json": {
              "type": "dataframe",
              "variable_name": "df"
            }
          },
          "metadata": {},
          "execution_count": 46
        }
      ]
    },
    {
      "cell_type": "code",
      "source": [
        "df.shape"
      ],
      "metadata": {
        "colab": {
          "base_uri": "https://localhost:8080/"
        },
        "id": "ZKsQnVV8ruFx",
        "outputId": "cafdefa0-d0c3-4227-d749-9ca0061eeff0"
      },
      "execution_count": 47,
      "outputs": [
        {
          "output_type": "execute_result",
          "data": {
            "text/plain": [
              "(11552, 85)"
            ]
          },
          "metadata": {},
          "execution_count": 47
        }
      ]
    },
    {
      "cell_type": "markdown",
      "source": [
        "**Finding duplicates**"
      ],
      "metadata": {
        "id": "jd_rNMkkpNDy"
      }
    },
    {
      "cell_type": "markdown",
      "source": [
        "Find the duplicate rows in two ways\n",
        "Step1"
      ],
      "metadata": {
        "id": "GgD3L8sipa2h"
      }
    },
    {
      "cell_type": "code",
      "source": [
        "duplicate_rows = df[df.duplicated()]"
      ],
      "metadata": {
        "id": "oU0bUIN2pP-m"
      },
      "execution_count": 94,
      "outputs": []
    },
    {
      "cell_type": "code",
      "source": [
        "# Display Duplicate Rows\n",
        "print(\"Duplicate Rows:\",duplicate_rows)\n"
      ],
      "metadata": {
        "colab": {
          "base_uri": "https://localhost:8080/"
        },
        "id": "ao4485DJr3xa",
        "outputId": "65e3cce6-9b88-4b0a-f2f5-8fe10bf617cf"
      },
      "execution_count": 95,
      "outputs": [
        {
          "output_type": "stream",
          "name": "stdout",
          "text": [
            "Duplicate Rows:       Respondent                                         MainBranch Hobbyist  \\\n",
            "1168        2339                     I am a developer by profession      Yes   \n",
            "1169        2342                     I am a developer by profession      Yes   \n",
            "1170        2343                     I am a developer by profession      Yes   \n",
            "1171        2344                     I am a developer by profession      Yes   \n",
            "1172        2347                     I am a developer by profession      Yes   \n",
            "...          ...                                                ...      ...   \n",
            "2297        4674  I am not primarily a developer, but I write co...      Yes   \n",
            "2298        4675                     I am a developer by profession      Yes   \n",
            "2299        4676                     I am a developer by profession      Yes   \n",
            "2300        4677                     I am a developer by profession      Yes   \n",
            "2301        4679                     I am a developer by profession      Yes   \n",
            "\n",
            "                                            OpenSourcer  \\\n",
            "1168                         Once a month or more often   \n",
            "1169                                              Never   \n",
            "1170  Less than once a month but more than once per ...   \n",
            "1171                                              Never   \n",
            "1172                                              Never   \n",
            "...                                                 ...   \n",
            "2297                            Less than once per year   \n",
            "2298                                              Never   \n",
            "2299                                              Never   \n",
            "2300                         Once a month or more often   \n",
            "2301  Less than once a month but more than once per ...   \n",
            "\n",
            "                                             OpenSource          Employment  \\\n",
            "1168  OSS is, on average, of HIGHER quality than pro...  Employed full-time   \n",
            "1169  The quality of OSS and closed source software ...  Employed full-time   \n",
            "1170  OSS is, on average, of LOWER quality than prop...  Employed full-time   \n",
            "1171  The quality of OSS and closed source software ...  Employed full-time   \n",
            "1172  OSS is, on average, of HIGHER quality than pro...  Employed full-time   \n",
            "...                                                 ...                 ...   \n",
            "2297  The quality of OSS and closed source software ...  Employed full-time   \n",
            "2298  OSS is, on average, of HIGHER quality than pro...  Employed full-time   \n",
            "2299  OSS is, on average, of HIGHER quality than pro...  Employed full-time   \n",
            "2300  OSS is, on average, of HIGHER quality than pro...  Employed full-time   \n",
            "2301  The quality of OSS and closed source software ...  Employed full-time   \n",
            "\n",
            "             Country Student  \\\n",
            "1168   United States      No   \n",
            "1169  United Kingdom      No   \n",
            "1170          Canada      No   \n",
            "1171   United States      No   \n",
            "1172  United Kingdom      No   \n",
            "...              ...     ...   \n",
            "2297      Bangladesh      No   \n",
            "2298   United States      No   \n",
            "2299         Finland      No   \n",
            "2300  United Kingdom      No   \n",
            "2301   United States      No   \n",
            "\n",
            "                                                EdLevel  \\\n",
            "1168  Some college/university study without earning ...   \n",
            "1169  Some college/university study without earning ...   \n",
            "1170        Master’s degree (MA, MS, M.Eng., MBA, etc.)   \n",
            "1171           Bachelor’s degree (BA, BS, B.Eng., etc.)   \n",
            "1172        Master’s degree (MA, MS, M.Eng., MBA, etc.)   \n",
            "...                                                 ...   \n",
            "2297           Bachelor’s degree (BA, BS, B.Eng., etc.)   \n",
            "2298           Bachelor’s degree (BA, BS, B.Eng., etc.)   \n",
            "2299        Master’s degree (MA, MS, M.Eng., MBA, etc.)   \n",
            "2300           Bachelor’s degree (BA, BS, B.Eng., etc.)   \n",
            "2301        Master’s degree (MA, MS, M.Eng., MBA, etc.)   \n",
            "\n",
            "                                         UndergradMajor  ...  \\\n",
            "1168  Computer science, computer engineering, or sof...  ...   \n",
            "1169  Information systems, information technology, o...  ...   \n",
            "1170  Computer science, computer engineering, or sof...  ...   \n",
            "1171  Computer science, computer engineering, or sof...  ...   \n",
            "1172  Computer science, computer engineering, or sof...  ...   \n",
            "...                                                 ...  ...   \n",
            "2297                                                NaN  ...   \n",
            "2298  Information systems, information technology, o...  ...   \n",
            "2299  Another engineering discipline (ex. civil, ele...  ...   \n",
            "2300  A natural science (ex. biology, chemistry, phy...  ...   \n",
            "2301  Computer science, computer engineering, or sof...  ...   \n",
            "\n",
            "                                 WelcomeChange  \\\n",
            "1168   Just as welcome now as I felt last year   \n",
            "1169  Somewhat more welcome now than last year   \n",
            "1170  Somewhat more welcome now than last year   \n",
            "1171   Just as welcome now as I felt last year   \n",
            "1172   Just as welcome now as I felt last year   \n",
            "...                                        ...   \n",
            "2297  Somewhat less welcome now than last year   \n",
            "2298   Just as welcome now as I felt last year   \n",
            "2299  Somewhat less welcome now than last year   \n",
            "2300   Just as welcome now as I felt last year   \n",
            "2301   Just as welcome now as I felt last year   \n",
            "\n",
            "                                           SONewContent   Age Gender Trans  \\\n",
            "1168                                                NaN  24.0    Man    No   \n",
            "1169  Tech meetups or events in your area;Courses on...  24.0    Man    No   \n",
            "1170  Tech articles written by other developers;Indu...  27.0    Man    No   \n",
            "1171  Tech articles written by other developers;Indu...  24.0    Man    No   \n",
            "1172                                                NaN   NaN  Woman    No   \n",
            "...                                                 ...   ...    ...   ...   \n",
            "2297  Tech articles written by other developers;Indu...  31.0    Man    No   \n",
            "2298                Tech meetups or events in your area  27.0    Man    No   \n",
            "2299                                                NaN  36.0    Man    No   \n",
            "2300                                                NaN  40.0    Man    No   \n",
            "2301                                                NaN  27.0    Man    No   \n",
            "\n",
            "                                            Sexuality  \\\n",
            "1168                          Straight / Heterosexual   \n",
            "1169                          Straight / Heterosexual   \n",
            "1170                          Straight / Heterosexual   \n",
            "1171                          Straight / Heterosexual   \n",
            "1172                          Straight / Heterosexual   \n",
            "...                                               ...   \n",
            "2297  Bisexual;Gay or Lesbian;Straight / Heterosexual   \n",
            "2298                          Straight / Heterosexual   \n",
            "2299                          Straight / Heterosexual   \n",
            "2300                          Straight / Heterosexual   \n",
            "2301                                              NaN   \n",
            "\n",
            "                                              Ethnicity Dependents  \\\n",
            "1168                       White or of European descent         No   \n",
            "1169                       White or of European descent         No   \n",
            "1170  Black or of African descent;White or of Europe...         No   \n",
            "1171                       White or of European descent         No   \n",
            "1172                                           Biracial         No   \n",
            "...                                                 ...        ...   \n",
            "2297  Black or of African descent;Hispanic or Latino...        Yes   \n",
            "2298                       White or of European descent         No   \n",
            "2299                       White or of European descent        Yes   \n",
            "2300                       White or of European descent        Yes   \n",
            "2301                       White or of European descent         No   \n",
            "\n",
            "               SurveyLength                  SurveyEase  \n",
            "1168  Appropriate in length                        Easy  \n",
            "1169               Too long                        Easy  \n",
            "1170  Appropriate in length  Neither easy nor difficult  \n",
            "1171  Appropriate in length                        Easy  \n",
            "1172               Too long                        Easy  \n",
            "...                     ...                         ...  \n",
            "2297               Too long  Neither easy nor difficult  \n",
            "2298  Appropriate in length                        Easy  \n",
            "2299               Too long                        Easy  \n",
            "2300  Appropriate in length                        Easy  \n",
            "2301  Appropriate in length                        Easy  \n",
            "\n",
            "[154 rows x 85 columns]\n"
          ]
        }
      ]
    },
    {
      "cell_type": "markdown",
      "source": [
        "Step2"
      ],
      "metadata": {
        "id": "mFLJbsAdpi_f"
      }
    },
    {
      "cell_type": "code",
      "source": [
        "num_duplicate_row=df.duplicated().sum()\n",
        "print(\"print number of duplicate:\", num_duplicate_row)"
      ],
      "metadata": {
        "colab": {
          "base_uri": "https://localhost:8080/"
        },
        "id": "nqc7mNeztR0_",
        "outputId": "29c379b2-b089-419e-a3b8-97c948cbbf0f"
      },
      "execution_count": 96,
      "outputs": [
        {
          "output_type": "stream",
          "name": "stdout",
          "text": [
            "print number of duplicate: 154\n"
          ]
        }
      ]
    },
    {
      "cell_type": "code",
      "source": [
        "#find duplicated columns\n",
        "duplicate_columns = df.columns[df.columns.duplicated()]"
      ],
      "metadata": {
        "id": "6KAxSql7sPpM"
      },
      "execution_count": 24,
      "outputs": []
    },
    {
      "cell_type": "code",
      "source": [
        "#display number of columns duplicate\n",
        "num_duplicate_columns = len(duplicate_columns)\n",
        "print(\"Number of duplicate columns:\", num_duplicate_columns)\n",
        "#print(\"Duplicate Columns:\", duplicate_columns.tolist())"
      ],
      "metadata": {
        "colab": {
          "base_uri": "https://localhost:8080/"
        },
        "id": "mjpYmbEDuvek",
        "outputId": "b3c85a19-73c4-49f1-bd57-9af2c27f2772"
      },
      "execution_count": 91,
      "outputs": [
        {
          "output_type": "stream",
          "name": "stdout",
          "text": [
            "Number of duplicate columns: 0\n"
          ]
        }
      ]
    },
    {
      "cell_type": "markdown",
      "source": [
        "**Removing duplicates**"
      ],
      "metadata": {
        "id": "8tDQP8gmpRWf"
      }
    },
    {
      "cell_type": "code",
      "source": [
        "#using drop function\n",
        "df_no_duplicates = df.drop_duplicates()"
      ],
      "metadata": {
        "id": "VrK-FVyKpQeL"
      },
      "execution_count": 108,
      "outputs": []
    },
    {
      "cell_type": "code",
      "source": [
        "df_no_duplicates.to_csv('cleaned_dataset.csv', index=False)\n",
        "df_no_duplicates.shape"
      ],
      "metadata": {
        "colab": {
          "base_uri": "https://localhost:8080/"
        },
        "id": "2GwGeM-duP2M",
        "outputId": "a7fcfd0e-6d53-40a2-db37-270b02d221d1"
      },
      "execution_count": 111,
      "outputs": [
        {
          "output_type": "execute_result",
          "data": {
            "text/plain": [
              "(11398, 85)"
            ]
          },
          "metadata": {},
          "execution_count": 111
        }
      ]
    },
    {
      "cell_type": "code",
      "source": [
        "df.shape"
      ],
      "metadata": {
        "colab": {
          "base_uri": "https://localhost:8080/"
        },
        "id": "GEkKmYyqqc6S",
        "outputId": "1788828b-7592-468e-c1a3-fb4799b89c06"
      },
      "execution_count": 89,
      "outputs": [
        {
          "output_type": "execute_result",
          "data": {
            "text/plain": [
              "(11552, 85)"
            ]
          },
          "metadata": {},
          "execution_count": 89
        }
      ]
    },
    {
      "cell_type": "code",
      "source": [
        "print('There are now', df.duplicated().sum(), 'duplicate rows.')\n",
        "print('There are', df.duplicated('Respondent').sum(), 'duplicate Respondants.')"
      ],
      "metadata": {
        "colab": {
          "base_uri": "https://localhost:8080/"
        },
        "id": "j03_ospZqXhs",
        "outputId": "cd2528af-6565-4b0c-9240-5465d3bd712b"
      },
      "execution_count": 99,
      "outputs": [
        {
          "output_type": "stream",
          "name": "stdout",
          "text": [
            "There are now 154 duplicate rows.\n",
            "There are 154 duplicate Respondants.\n"
          ]
        }
      ]
    },
    {
      "cell_type": "code",
      "source": [],
      "metadata": {
        "id": "ogPQtNBAcpPT"
      },
      "execution_count": 84,
      "outputs": []
    },
    {
      "cell_type": "markdown",
      "source": [
        "Verify duplicate were actually dropped"
      ],
      "metadata": {
        "id": "Eh4fYw75p6DV"
      }
    },
    {
      "cell_type": "code",
      "source": [
        "df.shape"
      ],
      "metadata": {
        "colab": {
          "base_uri": "https://localhost:8080/"
        },
        "id": "Yh1aGRfUbCbM",
        "outputId": "73b554b5-c610-411b-f0a3-a85c4585be1a"
      },
      "execution_count": 40,
      "outputs": [
        {
          "output_type": "execute_result",
          "data": {
            "text/plain": [
              "(11552, 85)"
            ]
          },
          "metadata": {},
          "execution_count": 40
        }
      ]
    },
    {
      "cell_type": "markdown",
      "source": [
        "**Finding missing values**"
      ],
      "metadata": {
        "id": "Y4cM2Bhbpej5"
      }
    },
    {
      "cell_type": "code",
      "source": [
        "with pd.option_context('display.max_rows', None, 'display.max_columns', None):\n",
        "    print(df.isnull().sum())"
      ],
      "metadata": {
        "colab": {
          "base_uri": "https://localhost:8080/"
        },
        "id": "9FtLA5I1fZQK",
        "outputId": "83f5e2cb-0b26-4114-e356-5308b6e1df2d"
      },
      "execution_count": 100,
      "outputs": [
        {
          "output_type": "stream",
          "name": "stdout",
          "text": [
            "Respondent                   0\n",
            "MainBranch                   0\n",
            "Hobbyist                     0\n",
            "OpenSourcer                  0\n",
            "OpenSource                  81\n",
            "Employment                   0\n",
            "Country                      0\n",
            "Student                     53\n",
            "EdLevel                    116\n",
            "UndergradMajor             740\n",
            "EduOther                   164\n",
            "OrgSize                     98\n",
            "DevType                     67\n",
            "YearsCode                    9\n",
            "Age1stCode                  13\n",
            "YearsCodePro                16\n",
            "CareerSat                    0\n",
            "JobSat                       1\n",
            "MgrIdiot                   498\n",
            "MgrMoney                   502\n",
            "MgrWant                    498\n",
            "JobSeek                      0\n",
            "LastHireDate                 0\n",
            "LastInt                    423\n",
            "FizzBuzz                    37\n",
            "JobFactors                   3\n",
            "ResumeUpdate                41\n",
            "CurrencySymbol               0\n",
            "CurrencyDesc                 0\n",
            "CompTotal                  815\n",
            "CompFreq                   206\n",
            "ConvertedComp              822\n",
            "WorkWeekHrs                125\n",
            "WorkPlan                   123\n",
            "WorkChallenge              168\n",
            "WorkRemote                   8\n",
            "WorkLoc                     32\n",
            "ImpSyn                       5\n",
            "CodeRev                      1\n",
            "CodeRevHrs                2469\n",
            "UnitTests                   29\n",
            "PurchaseHow                198\n",
            "PurchaseWhat                38\n",
            "LanguageWorkedWith          11\n",
            "LanguageDesireNextYear     137\n",
            "DatabaseWorkedWith         456\n",
            "DatabaseDesireNextYear    1055\n",
            "PlatformWorkedWith         422\n",
            "PlatformDesireNextYear     561\n",
            "WebFrameWorkedWith        1413\n",
            "WebFrameDesireNextYear    1634\n",
            "MiscTechWorkedWith        2209\n",
            "MiscTechDesireNextYear    1474\n",
            "DevEnviron                  29\n",
            "OpSys                       34\n",
            "Containers                  82\n",
            "BlockchainOrg             2354\n",
            "BlockchainIs              2637\n",
            "BetterLife                 100\n",
            "ITperson                    35\n",
            "OffOn                       38\n",
            "SocialMedia                301\n",
            "Extraversion                20\n",
            "ScreenName                 513\n",
            "SOVisit1st                 325\n",
            "SOVisitFreq                  5\n",
            "SOVisitTo                    1\n",
            "SOFindAnswer                 3\n",
            "SOTimeSaved                 51\n",
            "SOHowMuchTime             1936\n",
            "SOAccount                    1\n",
            "SOPartFreq                1148\n",
            "SOJobs                       6\n",
            "EntTeams                     5\n",
            "SOComm                       0\n",
            "WelcomeChange               89\n",
            "SONewContent              1995\n",
            "Age                        297\n",
            "Gender                      75\n",
            "Trans                      123\n",
            "Sexuality                  547\n",
            "Ethnicity                  683\n",
            "Dependents                 144\n",
            "SurveyLength                19\n",
            "SurveyEase                  14\n",
            "dtype: int64\n"
          ]
        }
      ]
    },
    {
      "cell_type": "code",
      "source": [
        "column_to_check = 'EdLevel'  # Replace 'column_name' with the name of the column you want to check\n",
        "\n",
        "# Step 4: Check for Blank Rows for the Specified Column\n",
        "blank_rows_for_column = df[df[column_to_check].isnull()]\n",
        "\n",
        "# Step 5: Display Blank Rows for the Specified Column\n",
        "print(\"Blank Rows for column '{}':\".format(column_to_check))\n",
        "print(blank_rows_for_column)"
      ],
      "metadata": {
        "id": "HG80vjeGfbAR"
      },
      "execution_count": null,
      "outputs": []
    },
    {
      "cell_type": "code",
      "source": [
        "# missing_data=df.isnull()\n",
        "# missing_data.head()"
      ],
      "metadata": {
        "id": "WgXCfqD0pjsg"
      },
      "execution_count": null,
      "outputs": []
    },
    {
      "cell_type": "code",
      "source": [
        "# missing_country=df[\"Country\"].isnull()\n",
        "# missing_country"
      ],
      "metadata": {
        "id": "X-Ul4VEyhX9_"
      },
      "execution_count": null,
      "outputs": []
    },
    {
      "cell_type": "code",
      "source": [
        "# missing_country_col=df[\"Country\"].notnull()\n",
        "# missing_country_col"
      ],
      "metadata": {
        "id": "WspmiQfshflD"
      },
      "execution_count": null,
      "outputs": []
    },
    {
      "cell_type": "code",
      "source": [
        "# missing_row=df.notnull()\n",
        "# missing_row.head()"
      ],
      "metadata": {
        "id": "gOffs1lJwwcc"
      },
      "execution_count": null,
      "outputs": []
    },
    {
      "cell_type": "code",
      "source": [
        "\n",
        "print(\"There are\", df['WorkLoc'].isnull().sum(), \"missing values in the column 'WorkLoc'\")\n",
        "print(\"There are\", df['EdLevel'].isnull().sum(), \"missing values in the column 'EdLevel'\")\n",
        "print(\"There are\", df['Country'].isnull().sum(), \"missing values in the column 'Country'\")"
      ],
      "metadata": {
        "colab": {
          "base_uri": "https://localhost:8080/"
        },
        "id": "cwKktuIZzjP9",
        "outputId": "c829e74f-5800-49af-e8b4-007261ef28da"
      },
      "execution_count": 101,
      "outputs": [
        {
          "output_type": "stream",
          "name": "stdout",
          "text": [
            "There are 32 missing values in the column 'WorkLoc'\n",
            "There are 116 missing values in the column 'EdLevel'\n",
            "There are 0 missing values in the column 'Country'\n"
          ]
        }
      ]
    },
    {
      "cell_type": "markdown",
      "source": [
        "**Impute missing values:** find the value counts for the column workloc"
      ],
      "metadata": {
        "id": "IT3JUuOgplBc"
      }
    },
    {
      "cell_type": "code",
      "source": [
        "print('There are', df['WorkLoc'].nunique(), 'unique Work Locations in the survey:')\n",
        "print(df['WorkLoc'].value_counts())\n",
        "print(\"\\n\",df[\"Employment\"].nunique(), \"unique employe\")\n",
        "print(df[\"Employment\"].value_counts)\n",
        "print(\"\\n\",df[\"UndergradMajor\"].nunique(),\"unique undergradMajor\")\n",
        "print(\"\\n\",df[\"UndergradMajor\"].value_counts())"
      ],
      "metadata": {
        "colab": {
          "base_uri": "https://localhost:8080/"
        },
        "id": "779GNjjvsV-o",
        "outputId": "abd77173-f7d2-44a0-bd13-0fdab2362a3b"
      },
      "execution_count": 112,
      "outputs": [
        {
          "output_type": "stream",
          "name": "stdout",
          "text": [
            "There are 3 unique Work Locations in the survey:\n",
            "Office                                            6905\n",
            "Home                                              3638\n",
            "Other place, such as a coworking space or cafe     977\n",
            "Name: WorkLoc, dtype: int64\n",
            "\n",
            " 2 unique employe\n",
            "<bound method IndexOpsMixin.value_counts of 0        Employed full-time\n",
            "1        Employed full-time\n",
            "2        Employed full-time\n",
            "3        Employed full-time\n",
            "4        Employed full-time\n",
            "                ...        \n",
            "11547    Employed full-time\n",
            "11548    Employed full-time\n",
            "11549    Employed full-time\n",
            "11550    Employed full-time\n",
            "11551    Employed full-time\n",
            "Name: Employment, Length: 11552, dtype: object>\n",
            "\n",
            " 12 unique undergradMajor\n",
            "\n",
            " Computer science, computer engineering, or software engineering          7053\n",
            "Information systems, information technology, or system administration     806\n",
            "Another engineering discipline (ex. civil, electrical, mechanical)        769\n",
            "Web development or web design                                             417\n",
            "A natural science (ex. biology, chemistry, physics)                       409\n",
            "Mathematics or statistics                                                 375\n",
            "A business discipline (ex. accounting, finance, marketing)                247\n",
            "A social science (ex. anthropology, psychology, political science)        212\n",
            "A humanities discipline (ex. literature, history, philosophy)             209\n",
            "Fine arts or performing arts (ex. graphic design, music, studio art)      165\n",
            "I never declared a major                                                  126\n",
            "A health science (ex. nursing, pharmacy, radiology)                        24\n",
            "Name: UndergradMajor, dtype: int64\n"
          ]
        }
      ]
    },
    {
      "cell_type": "code",
      "source": [
        "#make a note of the majority value here, for future reference\n",
        "# majority value is \"Office\" (6806)\n",
        "\n",
        "print(df['ConvertedComp'].mean())\n",
        "print(df['ConvertedComp'].median())"
      ],
      "metadata": {
        "colab": {
          "base_uri": "https://localhost:8080/"
        },
        "id": "AvwJTjkYvCYX",
        "outputId": "1d2a9d98-eae0-475f-db9b-2e7f35195482"
      },
      "execution_count": 113,
      "outputs": [
        {
          "output_type": "stream",
          "name": "stdout",
          "text": [
            "131334.0025163094\n",
            "57744.0\n"
          ]
        }
      ]
    },
    {
      "cell_type": "markdown",
      "source": [
        "Impute(replace) all the empty rows in the column WorkLoc with the value"
      ],
      "metadata": {
        "id": "thLVjBMGvKo3"
      }
    },
    {
      "cell_type": "code",
      "source": [
        "# your code goes here\n",
        "import numpy as np\n",
        "\n",
        "workloc_highest = 'Office'\n",
        "\n",
        "missing_data = df.isnull()\n",
        "#print(missing_data.head(5))\n",
        "\n",
        "print('\\nValue counts for missing data in WorkLoc:\\n')\n",
        "print( missing_data['WorkLoc'].value_counts())\n",
        "\n",
        "\n",
        "print('\\nHere are the first 10 rows missing values for WorkLoc:')\n",
        "print(df[missing_data['WorkLoc']][['Respondent','WorkLoc']].head(10))\n",
        "\n",
        "df['WorkLoc'].replace(np.nan, workloc_highest, inplace=True)"
      ],
      "metadata": {
        "colab": {
          "base_uri": "https://localhost:8080/"
        },
        "id": "w7RLqyFEvS97",
        "outputId": "1532459d-a393-4000-d1fd-bc7b5117bfc2"
      },
      "execution_count": 114,
      "outputs": [
        {
          "output_type": "stream",
          "name": "stdout",
          "text": [
            "\n",
            "Value counts for missing data in WorkLoc:\n",
            "\n",
            "False    11520\n",
            "True        32\n",
            "Name: WorkLoc, dtype: int64\n",
            "\n",
            "Here are the first 10 rows missing values for WorkLoc:\n",
            "      Respondent WorkLoc\n",
            "130          285     NaN\n",
            "242          550     NaN\n",
            "866         1847     NaN\n",
            "1455        2826     NaN\n",
            "1753        3536     NaN\n",
            "2339        4768     NaN\n",
            "2689        5562     NaN\n",
            "2788        5769     NaN\n",
            "3165        6613     NaN\n",
            "3213        6721     NaN\n"
          ]
        }
      ]
    },
    {
      "cell_type": "markdown",
      "source": [
        "Verify imputing was succesful"
      ],
      "metadata": {
        "id": "nNWuLZaovnSE"
      }
    },
    {
      "cell_type": "code",
      "source": [
        "print('\\nNew value counts for missing data in WorkLoc:\\n')\n",
        "print(missing_data['WorkLoc'].value_counts())\n",
        "# No 'True' values means that we have eliminated all empty WorkLoc values."
      ],
      "metadata": {
        "colab": {
          "base_uri": "https://localhost:8080/"
        },
        "id": "3KSua0xPvuEj",
        "outputId": "396ab6f9-a827-4b87-eddf-baa0de9aad93"
      },
      "execution_count": 115,
      "outputs": [
        {
          "output_type": "stream",
          "name": "stdout",
          "text": [
            "\n",
            "New value counts for missing data in WorkLoc:\n",
            "\n",
            "False    11520\n",
            "True        32\n",
            "Name: WorkLoc, dtype: int64\n"
          ]
        }
      ]
    },
    {
      "cell_type": "markdown",
      "source": [
        "**Normalizing data** there two columns for compensation one is \"CompFreq\" and another is \"CompTotal\" that talk about developer paid (Yearly, Monthly,Weekly), its difficult to compare so becouse of this make another column called \"NormalizedAnnualCompensation\""
      ],
      "metadata": {
        "id": "jCDr9luyp6yx"
      }
    },
    {
      "cell_type": "code",
      "source": [
        "# List out the vaious categories in the column \"CompFreq\"\n",
        "df[\"CompFreq\"].value_counts()"
      ],
      "metadata": {
        "colab": {
          "base_uri": "https://localhost:8080/"
        },
        "id": "l49iWtAtq7tD",
        "outputId": "b9704494-b340-4d88-8bf2-9a511c43efb0"
      },
      "execution_count": 30,
      "outputs": [
        {
          "output_type": "execute_result",
          "data": {
            "text/plain": [
              "Yearly     6163\n",
              "Monthly    4846\n",
              "Weekly      337\n",
              "Name: CompFreq, dtype: int64"
            ]
          },
          "metadata": {},
          "execution_count": 30
        }
      ]
    },
    {
      "cell_type": "markdown",
      "source": [
        "Created new column\"NormalizedAnnualCompensation\""
      ],
      "metadata": {
        "id": "74vuHI9Mv57P"
      }
    },
    {
      "cell_type": "code",
      "source": [
        "df.loc[df['CompFreq'] == 'Yearly', 'NormalizedAnnualCompensation']  = 1  * df['CompTotal']\n",
        "df.loc[df['CompFreq'] == 'Monthly', 'NormalizedAnnualCompensation'] = 12 * df['CompTotal']\n",
        "df.loc[df['CompFreq'] == 'Weekly', 'NormalizedAnnualCompensation']  = 52 * df['CompTotal']\n",
        "\n",
        "df[['CompTotal','CompFreq','NormalizedAnnualCompensation']].head(20)\n",
        "df['NormalizedAnnualCompensation'].median()"
      ],
      "metadata": {
        "colab": {
          "base_uri": "https://localhost:8080/"
        },
        "id": "JOvWDON9wB1K",
        "outputId": "2104d1d7-426a-4a45-f9a1-d388a6448956"
      },
      "execution_count": 117,
      "outputs": [
        {
          "output_type": "execute_result",
          "data": {
            "text/plain": [
              "100000.0"
            ]
          },
          "metadata": {},
          "execution_count": 117
        }
      ]
    }
  ]
}